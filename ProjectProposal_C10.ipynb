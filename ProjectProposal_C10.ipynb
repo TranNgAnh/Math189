{
  "cells": [
    {
      "cell_type": "markdown",
      "metadata": {
        "id": "IWELIH9tqyIU"
      },
      "source": [
        "# MATH 189 - Project Proposal"
      ]
    },
    {
      "cell_type": "markdown",
      "metadata": {
        "id": "TxVfgGC-qyIY"
      },
      "source": [
        "# Names\n",
        "\n",
        "- Anh Tran\n",
        "- Sang Tran\n",
        "- Jiaqiu Wu\n",
        "\n"
      ]
    },
    {
      "cell_type": "markdown",
      "metadata": {},
      "source": [
        "Your proposal needs to be submitted as a PDF file on gradescope, and should be no longer than 2 pages.\n",
        "\n",
        " \n",
        "\n",
        "While formulating your project proposal, focus on the following:\n",
        "\n",
        "- Why is this problem important?\n",
        "- What are the data sources for this?\n",
        "- Where do you plan on acquiring the data from?\n",
        "- What type of analyses do you propose for the dataset?\n",
        "- What are your expected outcomes for the project?\n",
        " \n",
        "\n",
        " \n",
        "\n",
        "Your project proposal grade will be based on the following rubric:\n",
        "\n",
        "Clarity (40%)\n",
        "Is the proposal clear, well-organized, and easy to understand? Are the objectives and goals precisely defined?\n",
        "\n",
        "Difficulty and Originality (40%)\n",
        "You will lose points if either: (i) the project is too simple and lacks originality, or (ii) does not provide a sufficient challenge for a ~3 person project.\n",
        "\n",
        "Feasibility (10%)\n",
        "The proposal includes a realistic plan, and is feasible to do in the time frame of the course."
      ]
    },
    {
      "cell_type": "markdown",
      "metadata": {
        "id": "W5MvKWjGqyIY"
      },
      "source": [
        "# Research Question"
      ]
    },
    {
      "cell_type": "markdown",
      "metadata": {
        "id": "WYfnT1jhqyIZ"
      },
      "source": [
        "...\n",
        "\n",
        "\n"
      ]
    },
    {
      "cell_type": "markdown",
      "metadata": {
        "id": "N6Ik6ZtMqyIZ"
      },
      "source": [
        "## Background and Prior Work"
      ]
    },
    {
      "cell_type": "markdown",
      "metadata": {
        "id": "oe69StRwqyIZ"
      },
      "source": [
        "__Sample background and prior work from my other project__\n",
        "\n",
        "&emsp;The Nobel Prize is one of the most established and well-known awards in the scientific field. Since 1901, the Nobel Prize has been awarded 621 times to accomplished people in Physics, Chemistry, Medicine or Physiology, Literature, Peace, and Economic Sciences. <a name=\"cite_ref-1\"></a>[<sup>1</sup>](#cite_note-1) However, in recent years, there have been many controversies in the pool of nominations and laureates of the Nobel Prize: it was mainly white males working in the elite education and research institutes. Till 2018, only 20 out of 607 medals were awarded to women. <a name=\"cite_ref-2\"></a>[<sup>2</sup>](#cite_note-2) Neikirk et al. focused only on winners in the Physiology and Medicine category and classified them on nationality, gender, and race. The research shows that the nationalities of the majority of the laureates are American. Moreover, black scientists are significantly underrepresented and there is an apparent lack of gender and racial minorities among Nobel laureates. <a name=\"cite_ref-3\"></a>[<sup>3</sup>](#cite_note-3) Furthermore, a study analyzed the institution of the winners who received their Ph.D/MD degree and contributed the majority of their research. It demonstrated that Nobel laureates are primarily associated with elite education and research institutes. <a name=\"cite_ref-4\"></a>[<sup>4</sup>](#cite_note-4) From previous studies, it is clear that the Nobel Prize shows significant bias towards scientists based on their nationality, gender, race, and associated institution.\n",
        "\n",
        "&emsp;In 2019, the Nobel Prize committee addressed this issue by announcing that they would try to diversify the pool of nominees in gender, ethnicity, and geography. The academy's secretary-general, biomedical scientist Göran Hansson, said: “It looks like there is a positive trend, with more women being nominated. It's small, but it's a trend… With time, there will also be a gradual change in the population of scientists who are potential candidates, so that will help too.” <a name=\"cite_ref-2\"></a>[<sup>2</sup>](#cite_note-2) Hansson's opinion is echoed in Mahmoudi et al.'s research. They calculated the likelihood of women winning the Nobel Prize over the years. The results illustrate that there is an overall increase in the percentage of female winners in all categories except Physics. This trend could be related to the rise in women participating in scientific research. Based on reports from the National Science Foundation, between 2011 and 2021, there was a significant increase in the representation of women and underrepresented minorities in the STEM workforce in the United States. <a name=\"cite_ref-6\"></a>[<sup>6</sup>](#cite_note-6) However, the proportion of women in research is still significantly more significant than the percentage of women in Nobel laureates. <a name=\"cite_ref-5\"></a>[<sup>5</sup>](#cite_note-5) It demonstrates the failure of the Nobel Prize committee to accurately reflect and push forward the diversity of the research field in the current day. <a name=\"cite_ref-4\"></a>[<sup>4</sup>](#cite_note-4)<br></br>\n",
        "\n",
        "References\n",
        "\n",
        "1. <a name=\"cite_note-1\"></a> [^](#cite_ref-1) “Nobel Prize facts.” NobelPrize.org, 5 Oct. 2009, https://www.nobelprize.org/prizes/facts/nobel-prize-facts.\n",
        "2. <a name=\"cite_note-2\"></a> [^](#cite_ref-2) Gibney, Elizabeth. “'More women are being nominated': Nobel academy head discusses diversity.” Nature, 4 Oct. 2019, https://doi.org/10.1038/d41586-019-02988-5.\n",
        "3. <a name=\"cite_note-3\"></a> [^](#cite_ref-3) Neikirk, Kit, et al. “Disparities in funding for Nobel prize awards in medicine and physiology across nationalities, races, and gender.” Journal of Cellular Physiology, 15 Jan. 2024, https://doi.org/10.1002/jcp.31157.\n",
        "4. <a name=\"cite_note-4\"></a> [^](#cite_ref-4) Schlagberger, Elisabeth Maria, et al. “United States, Europe, and Asia: Diversity in Nobel Prize-Winning Affiliations”. International Higher Education, no. 90, June 2017, pp. 12-13, doi:10.6017/ihe.2017.90.10004.\n",
        "5. <a name=\"cite_note-5\"></a> [^](#cite_ref-5) \"Mahmoudi, Morteza, et al. “Representation of women among scientific Nobel prize nominees.” The Lancet, vol. 394, no. 10212, Nov. 2019, pp. 1905-1906, https://doi.org/10.1016/s0140-6736(19)32538-3.\n",
        "6. <a name=\"cite_note-6\"></a> [^](#cite_ref-6) \"Diversity and STEM: Women, Minorities, and Persons with Disabilities in Science and Engineering: 2023.\" National Center for Science and Engineering Statistics (NCSES), National Science Foundation, 2023, https://ncses.nsf.gov/pubs/nsf23315/report.\n",
        "\n",
        "\n",
        "\n",
        "\n",
        "\n",
        "\n",
        "\n"
      ]
    },
    {
      "cell_type": "markdown",
      "metadata": {
        "id": "BhKuV7LMqyIa"
      },
      "source": [
        "# Hypothesis\n"
      ]
    },
    {
      "cell_type": "markdown",
      "metadata": {
        "id": "KHSFm_72qyIb"
      },
      "source": [
        "&emsp;\n"
      ]
    },
    {
      "cell_type": "markdown",
      "metadata": {
        "id": "oIAjCKlXqyIb"
      },
      "source": [
        "# Data"
      ]
    },
    {
      "cell_type": "markdown",
      "metadata": {
        "id": "Q-kkILEHqyIb"
      },
      "source": [
        "Sample reference.\n",
        "- <a href=\"https://public.opendatasoft.com/explore/dataset/nobel-prize-laureates/table/?flg=en-us&disjunctive.category\">Nobel Prize - Laureates</a>\n"
      ]
    },
    {
      "cell_type": "markdown",
      "metadata": {
        "id": "0v1CvDdWqyIb"
      },
      "source": [
        "# Ethics & Privacy"
      ]
    },
    {
      "cell_type": "markdown",
      "metadata": {
        "id": "S8mFDqoTqyIc"
      },
      "source": [
        "&emsp;...\n",
        "\n"
      ]
    },
    {
      "cell_type": "markdown",
      "metadata": {
        "id": "1gd6GQ--qyIc"
      },
      "source": [
        "# Team Expectations"
      ]
    },
    {
      "cell_type": "markdown",
      "metadata": {
        "id": "3dTUI6I2qyIc"
      },
      "source": [
        "* *Show up to scheduled team meetings.*\n",
        "* *Communicate through group chat if we can't finish something in time, miss a meeting, need help, etc.*\n",
        "* *Be understanding and respectful of one another.*\n",
        "\n",
        "\n",
        "\n"
      ]
    },
    {
      "cell_type": "markdown",
      "metadata": {
        "id": "o2Dp2uNkqyIc"
      },
      "source": [
        "# Project Timeline Proposal"
      ]
    },
    {
      "cell_type": "markdown",
      "metadata": {
        "id": "efNUc88vqyIc"
      },
      "source": [
        "| Meeting Date  | Meeting Time| Completed Before Meeting  | Discuss at Meeting |\n",
        "|---|---|---|---|\n",
        "| 4/21  |  6 PM | Read through the project proposal  | Introduction; Determine best form of communication; Brainstorm topics/questions|\n",
        "| ...  | 8 PM | Look through topics from last time; Search for potential data sources | Discuss and decide on final project topic; Discuss research question and hypothesis; Begin background research ; Divide work on proposal drafting|\n",
        "| ...  |  8 PM |  Do background research on topic | Discuss ideal dataset(s) and ethics; draft project proposal |\n",
        "| ...  | 8 PM  | Edit, finalize, and submit proposal; Search for datasets  | Discuss data wrangling and possible visualization approaches; Assign group members to lead each specific part   |\n",
        "| ...  | 8 PM  | Import & Wrangle Data; EDA | Review/Edit wrangling/EDA; Discuss analysis and visualization plan  |\n",
        "| ...  | 8 PM  | Finalize wrangling and submit Checkpoint 1;Begin Analysis  | Discuss/edit Analysis; Complete project check-in |\n",
        "| ...  | 8 PM | Finalize EDA and submit Checkpoint 2 | Discuss analytical results and draft figure explanation. |\n",
        "| ...  | 8 PM  | Complete analysis; Draft results/conclusion/discussion | Discuss/edit full project |\n",
        "| ...  | 8 PM  | Complete report and video | Turn in Final Video & Report & Team Evaluation Surveys |"
      ]
    },
    {
      "cell_type": "markdown",
      "metadata": {},
      "source": []
    }
  ],
  "metadata": {
    "colab": {
      "provenance": []
    },
    "kernelspec": {
      "display_name": "Python 3 (ipykernel)",
      "language": "python",
      "name": "python3"
    },
    "language_info": {
      "codemirror_mode": {
        "name": "ipython",
        "version": 3
      },
      "file_extension": ".py",
      "mimetype": "text/x-python",
      "name": "python",
      "nbconvert_exporter": "python",
      "pygments_lexer": "ipython3",
      "version": "3.9.7"
    }
  },
  "nbformat": 4,
  "nbformat_minor": 0
}

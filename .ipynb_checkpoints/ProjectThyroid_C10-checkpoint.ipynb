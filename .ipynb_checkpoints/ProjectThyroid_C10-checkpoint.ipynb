{
 "cells": [
  {
   "cell_type": "markdown",
   "metadata": {
    "id": "IWELIH9tqyIU"
   },
   "source": [
    "# MATH 189 - Project"
   ]
  },
  {
   "cell_type": "markdown",
   "metadata": {
    "id": "TxVfgGC-qyIY",
    "jp-MarkdownHeadingCollapsed": true
   },
   "source": [
    "> NAME: $\\color{red}{\\text{    Anh Tran     }}$\n",
    "> \n",
    "> EMAIL: $\\color{red}{\\text{    ant033@ucsd.edu     }}$\n",
    "> \n",
    "> PID: $\\color{red}{\\text{    A17634100     }}$\n",
    "\n",
    "> NAME: $\\color{red}{\\text{    Sang Tran     }}$\n",
    "> \n",
    "> EMAIL: $\\color{red}{\\text{    stt008@ucsd.edu     }}$\n",
    "> \n",
    "> PID: $\\color{red}{\\text{    A17603500     }}$"
   ]
  },
  {
   "cell_type": "markdown",
   "metadata": {
    "id": "W5MvKWjGqyIY"
   },
   "source": [
    "# Research Question"
   ]
  },
  {
   "cell_type": "markdown",
   "metadata": {
    "id": "WYfnT1jhqyIZ"
   },
   "source": [
    "Is there a correlation between a specific group of population that is most affected by thyroid disease and what is the most effective treatment based on the thyroid disease dataset?\n",
    "\n",
    "\n"
   ]
  },
  {
   "cell_type": "markdown",
   "metadata": {
    "id": "N6Ik6ZtMqyIZ"
   },
   "source": [
    "## Background and Prior Work"
   ]
  },
  {
   "cell_type": "markdown",
   "metadata": {
    "id": "oe69StRwqyIZ"
   },
   "source": [
    "According to the Cleveland Clinic, thyroid gland is a part of endocrine system and located around the base of the Larynx (voice box), surrounding the trachea (windpipe) and is responsible for creating necessary hormones to regulate the body functions like metabolism through chemical reaction and control hormones by releasing the hormones into the bloodstream. In fact, all cells require energy from metabolized food in order to function so thyroid plays an important role in maintaining that our body is working properly. It is a fairly common disease as stated by Cleveland Clinic, diseases that degrade or over activate the thyroid function can have a major impact on our body functionality such as fatigue, weight loss/gain, depression, heavy or irregular menstrual periods, mood swing, etc… However, the diseases are not debilitating and are all treatable through the use of medication, therapy, or surgery.\n",
    "\n",
    "References:\n",
    "\n",
    "professional, C. C. medical. (n.d.). Thyroid disease. Cleveland Clinic.https://my.clevelandclinic.org/health/diseases/8541-thyroid-disease#overview "
   ]
  },
  {
   "cell_type": "markdown",
   "metadata": {
    "id": "BhKuV7LMqyIa"
   },
   "source": [
    "# Hypothesis\n"
   ]
  },
  {
   "cell_type": "markdown",
   "metadata": {
    "id": "KHSFm_72qyIb"
   },
   "source": [
    "* Identification of high risk factors for disease: Through the analyses mentioned above, we aim to identify demographic and clinical factors associated with an increased risk of thyroid disease. This can help healthcare professionals better understand the populations most vulnerable to thyroid dysfunction.\r\n",
    "* \r\n",
    "Prediction of thyroid disease: By training machine learning models on the dataset, we expect to develop predictive models that can accurately classify individuals as either having thyroid disease or being healthy based on their demographic and clinical characteristics.\r\n",
    "\n"
   ]
  },
  {
   "cell_type": "markdown",
   "metadata": {
    "id": "oIAjCKlXqyIb"
   },
   "source": [
    "# Data Source"
   ]
  },
  {
   "cell_type": "markdown",
   "metadata": {},
   "source": [
    "This dataset from [kaggle](https://www.kaggle.com/datasets/emmanuelfwerr/thyroid-disease-data) was created by Kaggle user Emmanuel F. Werr and made to be more readable from the original data located at [Thyroid Disease Dataset](https://archive.ics.uci.edu/ml/datasets/thyroid+disease) - UCI Machine Learning Repository.\n",
    "\n",
    "&emsp; Analyzing the dataset can provide us insights into risk factors, and clinical manifestations of thyroid disease. This information is crucial for healthcare professionals to better understand the disease and its impact on affected individuals. \r\n",
    "\n",
    "&emsp; \n",
    "Moreover, we can potentially identify high-risk groups and the conclusions from this project can inform targeted screening and prevention strategies and help optimize diagnosis and treatment plans.\n",
    "\n",
    "&emsp; \r\n",
    "Lastly, analysis of this dataset can generate hypotheses for further research into the underlying mechanisms of thyroid disease and potential therapeutic targets. By contributing to the scientific understanding of the disease, the expected outcomes can drive innovation in diagnosis, treatment, and prevention strategies.\r\n"
   ]
  },
  {
   "cell_type": "markdown",
   "metadata": {},
   "source": [
    "# Propose objective"
   ]
  },
  {
   "cell_type": "markdown",
   "metadata": {},
   "source": [
    "* Data Cleaning\n",
    "* EDA\n",
    "* Feature Selection\n",
    "* Modeling\n",
    "* Interpretation\n",
    "\n",
    "We are planning to do data cleaning to take out unneeded variables, missing values, one-hot encoding, and combine data in order tidying the data. In addition, we are planning to do exploratory data analysis to see how the variables might be related to each other and to the thyroid relationship. Visualization of these features is key and we are planning to use graphs such as scatter plots, ECDF, QQ-plot, correlation matrices, etc to gain a better understanding of these features. After that, we are planning to experiment with different models such as linear regression, PCA, etc... Lastly, we will interpret the results."
   ]
  },
  {
   "cell_type": "markdown",
   "metadata": {},
   "source": [
    "# Dataset description\n",
    "\n",
    "\n",
    "| Features     | Sample Count |\n",
    "|---------------|--------------|\n",
    "|  31          |     9172     |\n",
    "\n"
   ]
  },
  {
   "cell_type": "markdown",
   "metadata": {},
   "source": [
    "| Attribute            | Description                                          | Data Type |\n",
    "|----------------------|------------------------------------------------------|-----------|\n",
    "| age                  | age of the patient                                   | (int)     |\n",
    "| sex                  | sex patient identifies | (str)     |\n",
    "| on_thyroxine         | whether patient is on thyroxine                      | (bool)    |\n",
    "| query_on_thyroxine   | whether patient is on thyroxine meds          | (bool)    |\n",
    "| on_antithyroid_meds  | whether patient is on antithyroid meds                              | (bool)    |\n",
    "| sick                 | whether patient is sick                          | (bool)    |\n",
    "| pregnant             | whether patient is pregnant       | (bool)    |\n",
    "| thyroid_surgery      | whether patient has undergone thyroid surgery        | (bool)    |\n",
    "| I131_treatment       | whether patient is undergoing I131 treatment   | (bool)    |\n",
    "| query_hypothyroid    | whether the patient believes they have hypothyroid | (bool)    |\n",
    "| query_hyperthyroid   | whether the patient believes they have hyperthyroid                   | (bool)    |\n",
    "| lithium              | whether patient is taking lithium                            | (bool)    |\n",
    "| goitre               | whether patient has goitre                          | (bool)    |\n",
    "| tumor                | whether patient has tumor                    | (bool)    |\n",
    "| hypopituitary        | whether patient has hypopituitarism                            | (bool)    |\n",
    "| psych                | whether patient has a psychological disorder                 | (bool)    |\n",
    "| TSH_measured         | whether TSH was measured in the blood                    | (bool)   |\n",
    "| TSH                  | TSH level in blood from lab work                 | (float)    |\n",
    "| T3_measured          | whether T3 was measured in the blood                      | (bool)   |\n",
    "| T3                   | T3 level in blood from lab work               | (float)    |\n",
    "| TT4_measured         | whether TT4 was measured in the blood                     | (bool)   |\n",
    "| TT4                  | TT4 level in blood from lab work              | (float)    |\n",
    "| T4U_measured         | whether T4U was measured in the blood                      | (bool)   |\n",
    "| T4U                  | T4U level in blood from lab work               | (float)    |\n",
    "| FTI_measured         | whether FTI was measured in the blood                     | (bool)   |\n",
    "| FTI                  | FTI level in blood from lab work              | (float)    |\n",
    "| TBG_measured         | whether TBG was measured in the blood                    | (bool)   |\n",
    "| TBG                  |  TBG level in blood from lab work               | (float)     |\n",
    "| referral_source      | Referral source                   | (str)     |\n",
    "| target               | Hyperthyroidism medical diagnosis                            | (str)     |\n",
    "| patient_id           |   Unique ID of the patient                                                   | (str)     |\n"
   ]
  },
  {
   "cell_type": "markdown",
   "metadata": {},
   "source": [
    "The target classification contains health conditions and diagnosis classes."
   ]
  },
  {
   "cell_type": "code",
   "execution_count": 21,
   "metadata": {},
   "outputs": [
    {
     "data": {
      "text/plain": [
       "target\n",
       "-      6771\n",
       "K       436\n",
       "G       359\n",
       "I       346\n",
       "F       233\n",
       "R       196\n",
       "A       147\n",
       "L       115\n",
       "M       111\n",
       "N       110\n",
       "S        85\n",
       "GK       49\n",
       "AK       46\n",
       "J        30\n",
       "B        21\n",
       "MK       16\n",
       "Q        14\n",
       "O        14\n",
       "C|I      12\n",
       "KJ       11\n",
       "GI       10\n",
       "H|K       8\n",
       "D         8\n",
       "FK        6\n",
       "C         6\n",
       "P         5\n",
       "MI        2\n",
       "LJ        1\n",
       "GKJ       1\n",
       "OI        1\n",
       "D|R       1\n",
       "E         1\n",
       "Name: count, dtype: int64"
      ]
     },
     "execution_count": 21,
     "metadata": {},
     "output_type": "execute_result"
    }
   ],
   "source": [
    "df['target'].value_counts()"
   ]
  },
  {
   "cell_type": "markdown",
   "metadata": {},
   "source": [
    "<br>\n",
    "\n",
    "| Condition                           | Diagnosis class              | Count |\n",
    "|-------------------------------------|------------------------------|-------|\n",
    "| hyperthyroid                        | hyperthyroid (A)            | 147   |\n",
    "|                          | T3 toxic (B)                | 21    |\n",
    "|      | toxic goiter (C)            | 6     |\n",
    "|                 | secondary toxic (D)         | 8     |\n",
    "|  hypothyroid          | hypothyroid (E)             | 1     |\n",
    "|     | primary hypothyroid (F)     | 233   |\n",
    "|                                     | compensated hypothyroid (G) | 359   |\n",
    "|                                     | secondary hypothyroid (H)   | 8     |\n",
    "|                binding protein                     | increased binding protein (I)| 346   |\n",
    "|                                     | decreased binding protein (J)| 30    |\n",
    "|             general health                       | concurrent non-thyroidal illness (K) | 436 |\n",
    "|            replacement therapy                     | underreplaced (M)           | 111   |\n",
    "|                                     | consistent with replacement therapy (L) | 115 |\n",
    "|                                     | overreplaced (N)            | 110   |\n",
    "|         antithyroid treatment                          | antithyroid drugs (O)       | 14    |\n",
    "|                                     | I131 treatment (P)          | 5     |\n",
    "|                                     | surgery (Q)                 | 14    |\n",
    "|             miscellaneous                     | discordant assay results (R)| 196   |\n",
    "|                                     | elevated TBG (S)            | 85    |\n",
    "|                                     | elevated thyroid hormones (T)| 0     |\n",
    "|            no condition                       | (-)                         | 6771  |\n"
   ]
  },
  {
   "cell_type": "markdown",
   "metadata": {},
   "source": [
    "## Data Cleaning"
   ]
  },
  {
   "cell_type": "code",
   "execution_count": 23,
   "metadata": {},
   "outputs": [],
   "source": [
    "import pandas as pd\n",
    "import numpy as np\n",
    "import re\n",
    "import seaborn as sns\n",
    "import matplotlib.pyplot as plt"
   ]
  },
  {
   "cell_type": "code",
   "execution_count": 24,
   "metadata": {},
   "outputs": [
    {
     "data": {
      "text/html": [
       "<div>\n",
       "<style scoped>\n",
       "    .dataframe tbody tr th:only-of-type {\n",
       "        vertical-align: middle;\n",
       "    }\n",
       "\n",
       "    .dataframe tbody tr th {\n",
       "        vertical-align: top;\n",
       "    }\n",
       "\n",
       "    .dataframe thead th {\n",
       "        text-align: right;\n",
       "    }\n",
       "</style>\n",
       "<table border=\"1\" class=\"dataframe\">\n",
       "  <thead>\n",
       "    <tr style=\"text-align: right;\">\n",
       "      <th></th>\n",
       "      <th>age</th>\n",
       "      <th>sex</th>\n",
       "      <th>on_thyroxine</th>\n",
       "      <th>query_on_thyroxine</th>\n",
       "      <th>on_antithyroid_meds</th>\n",
       "      <th>sick</th>\n",
       "      <th>pregnant</th>\n",
       "      <th>thyroid_surgery</th>\n",
       "      <th>I131_treatment</th>\n",
       "      <th>query_hypothyroid</th>\n",
       "      <th>...</th>\n",
       "      <th>TT4</th>\n",
       "      <th>T4U_measured</th>\n",
       "      <th>T4U</th>\n",
       "      <th>FTI_measured</th>\n",
       "      <th>FTI</th>\n",
       "      <th>TBG_measured</th>\n",
       "      <th>TBG</th>\n",
       "      <th>referral_source</th>\n",
       "      <th>target</th>\n",
       "      <th>patient_id</th>\n",
       "    </tr>\n",
       "  </thead>\n",
       "  <tbody>\n",
       "    <tr>\n",
       "      <th>0</th>\n",
       "      <td>29</td>\n",
       "      <td>F</td>\n",
       "      <td>f</td>\n",
       "      <td>f</td>\n",
       "      <td>f</td>\n",
       "      <td>f</td>\n",
       "      <td>f</td>\n",
       "      <td>f</td>\n",
       "      <td>f</td>\n",
       "      <td>t</td>\n",
       "      <td>...</td>\n",
       "      <td>NaN</td>\n",
       "      <td>f</td>\n",
       "      <td>NaN</td>\n",
       "      <td>f</td>\n",
       "      <td>NaN</td>\n",
       "      <td>f</td>\n",
       "      <td>NaN</td>\n",
       "      <td>other</td>\n",
       "      <td>-</td>\n",
       "      <td>840801013</td>\n",
       "    </tr>\n",
       "    <tr>\n",
       "      <th>1</th>\n",
       "      <td>29</td>\n",
       "      <td>F</td>\n",
       "      <td>f</td>\n",
       "      <td>f</td>\n",
       "      <td>f</td>\n",
       "      <td>f</td>\n",
       "      <td>f</td>\n",
       "      <td>f</td>\n",
       "      <td>f</td>\n",
       "      <td>f</td>\n",
       "      <td>...</td>\n",
       "      <td>128.0</td>\n",
       "      <td>f</td>\n",
       "      <td>NaN</td>\n",
       "      <td>f</td>\n",
       "      <td>NaN</td>\n",
       "      <td>f</td>\n",
       "      <td>NaN</td>\n",
       "      <td>other</td>\n",
       "      <td>-</td>\n",
       "      <td>840801014</td>\n",
       "    </tr>\n",
       "    <tr>\n",
       "      <th>2</th>\n",
       "      <td>41</td>\n",
       "      <td>F</td>\n",
       "      <td>f</td>\n",
       "      <td>f</td>\n",
       "      <td>f</td>\n",
       "      <td>f</td>\n",
       "      <td>f</td>\n",
       "      <td>f</td>\n",
       "      <td>f</td>\n",
       "      <td>f</td>\n",
       "      <td>...</td>\n",
       "      <td>NaN</td>\n",
       "      <td>f</td>\n",
       "      <td>NaN</td>\n",
       "      <td>f</td>\n",
       "      <td>NaN</td>\n",
       "      <td>t</td>\n",
       "      <td>11.0</td>\n",
       "      <td>other</td>\n",
       "      <td>-</td>\n",
       "      <td>840801042</td>\n",
       "    </tr>\n",
       "    <tr>\n",
       "      <th>3</th>\n",
       "      <td>36</td>\n",
       "      <td>F</td>\n",
       "      <td>f</td>\n",
       "      <td>f</td>\n",
       "      <td>f</td>\n",
       "      <td>f</td>\n",
       "      <td>f</td>\n",
       "      <td>f</td>\n",
       "      <td>f</td>\n",
       "      <td>f</td>\n",
       "      <td>...</td>\n",
       "      <td>NaN</td>\n",
       "      <td>f</td>\n",
       "      <td>NaN</td>\n",
       "      <td>f</td>\n",
       "      <td>NaN</td>\n",
       "      <td>t</td>\n",
       "      <td>26.0</td>\n",
       "      <td>other</td>\n",
       "      <td>-</td>\n",
       "      <td>840803046</td>\n",
       "    </tr>\n",
       "    <tr>\n",
       "      <th>4</th>\n",
       "      <td>32</td>\n",
       "      <td>F</td>\n",
       "      <td>f</td>\n",
       "      <td>f</td>\n",
       "      <td>f</td>\n",
       "      <td>f</td>\n",
       "      <td>f</td>\n",
       "      <td>f</td>\n",
       "      <td>f</td>\n",
       "      <td>f</td>\n",
       "      <td>...</td>\n",
       "      <td>NaN</td>\n",
       "      <td>f</td>\n",
       "      <td>NaN</td>\n",
       "      <td>f</td>\n",
       "      <td>NaN</td>\n",
       "      <td>t</td>\n",
       "      <td>36.0</td>\n",
       "      <td>other</td>\n",
       "      <td>S</td>\n",
       "      <td>840803047</td>\n",
       "    </tr>\n",
       "  </tbody>\n",
       "</table>\n",
       "<p>5 rows × 31 columns</p>\n",
       "</div>"
      ],
      "text/plain": [
       "   age sex on_thyroxine query_on_thyroxine on_antithyroid_meds sick pregnant  \\\n",
       "0   29   F            f                  f                   f    f        f   \n",
       "1   29   F            f                  f                   f    f        f   \n",
       "2   41   F            f                  f                   f    f        f   \n",
       "3   36   F            f                  f                   f    f        f   \n",
       "4   32   F            f                  f                   f    f        f   \n",
       "\n",
       "  thyroid_surgery I131_treatment query_hypothyroid  ...    TT4 T4U_measured  \\\n",
       "0               f              f                 t  ...    NaN            f   \n",
       "1               f              f                 f  ...  128.0            f   \n",
       "2               f              f                 f  ...    NaN            f   \n",
       "3               f              f                 f  ...    NaN            f   \n",
       "4               f              f                 f  ...    NaN            f   \n",
       "\n",
       "  T4U FTI_measured FTI TBG_measured   TBG  referral_source target  patient_id  \n",
       "0 NaN            f NaN            f   NaN            other      -   840801013  \n",
       "1 NaN            f NaN            f   NaN            other      -   840801014  \n",
       "2 NaN            f NaN            t  11.0            other      -   840801042  \n",
       "3 NaN            f NaN            t  26.0            other      -   840803046  \n",
       "4 NaN            f NaN            t  36.0            other      S   840803047  \n",
       "\n",
       "[5 rows x 31 columns]"
      ]
     },
     "execution_count": 24,
     "metadata": {},
     "output_type": "execute_result"
    }
   ],
   "source": [
    "path = '../Math189/data/thyroidDF.csv'\n",
    "df = pd.read_csv(path)\n",
    "df.head()"
   ]
  },
  {
   "cell_type": "code",
   "execution_count": 27,
   "metadata": {},
   "outputs": [
    {
     "data": {
      "text/plain": [
       "(9172, 31)"
      ]
     },
     "execution_count": 27,
     "metadata": {},
     "output_type": "execute_result"
    }
   ],
   "source": [
    "df.shape"
   ]
  },
  {
   "cell_type": "code",
   "execution_count": 4,
   "metadata": {},
   "outputs": [
    {
     "data": {
      "text/plain": [
       "age                      int64\n",
       "sex                     object\n",
       "on_thyroxine            object\n",
       "query_on_thyroxine      object\n",
       "on_antithyroid_meds     object\n",
       "sick                    object\n",
       "pregnant                object\n",
       "thyroid_surgery         object\n",
       "I131_treatment          object\n",
       "query_hypothyroid       object\n",
       "query_hyperthyroid      object\n",
       "lithium                 object\n",
       "goitre                  object\n",
       "tumor                   object\n",
       "hypopituitary           object\n",
       "psych                   object\n",
       "TSH_measured            object\n",
       "TSH                    float64\n",
       "T3_measured             object\n",
       "T3                     float64\n",
       "TT4_measured            object\n",
       "TT4                    float64\n",
       "T4U_measured            object\n",
       "T4U                    float64\n",
       "FTI_measured            object\n",
       "FTI                    float64\n",
       "TBG_measured            object\n",
       "TBG                    float64\n",
       "referral_source         object\n",
       "target                  object\n",
       "patient_id               int64\n",
       "dtype: object"
      ]
     },
     "execution_count": 4,
     "metadata": {},
     "output_type": "execute_result"
    }
   ],
   "source": [
    "df.dtypes"
   ]
  },
  {
   "cell_type": "code",
   "execution_count": 7,
   "metadata": {},
   "outputs": [
    {
     "data": {
      "text/plain": [
       "(9172, 31)"
      ]
     },
     "execution_count": 7,
     "metadata": {},
     "output_type": "execute_result"
    }
   ],
   "source": [
    "df.replace({'t': 1, 'f': 0}, inplace=True)\n",
    "df.shape"
   ]
  },
  {
   "cell_type": "markdown",
   "metadata": {
    "id": "0v1CvDdWqyIb"
   },
   "source": [
    "# Ethics & Privacy"
   ]
  },
  {
   "cell_type": "markdown",
   "metadata": {
    "id": "S8mFDqoTqyIc"
   },
   "source": [
    "&emsp;...\n",
    "\n"
   ]
  },
  {
   "cell_type": "markdown",
   "metadata": {
    "id": "1gd6GQ--qyIc"
   },
   "source": [
    "# Team Expectations"
   ]
  },
  {
   "cell_type": "markdown",
   "metadata": {
    "id": "3dTUI6I2qyIc"
   },
   "source": [
    "* *Show up to scheduled team meetings.*\n",
    "* *Communicate through group chat if we can't finish something in time, miss a meeting, need help, etc.*\n",
    "* *Be understanding and respectful of one another.*\n",
    "\n",
    "\n",
    "\n"
   ]
  }
 ],
 "metadata": {
  "colab": {
   "provenance": []
  },
  "kernelspec": {
   "display_name": "Python 3 (ipykernel)",
   "language": "python",
   "name": "python3"
  },
  "language_info": {
   "codemirror_mode": {
    "name": "ipython",
    "version": 3
   },
   "file_extension": ".py",
   "mimetype": "text/x-python",
   "name": "python",
   "nbconvert_exporter": "python",
   "pygments_lexer": "ipython3",
   "version": "3.9.6"
  }
 },
 "nbformat": 4,
 "nbformat_minor": 4
}
